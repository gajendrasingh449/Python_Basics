{
  "nbformat": 4,
  "nbformat_minor": 0,
  "metadata": {
    "colab": {
      "provenance": []
    },
    "kernelspec": {
      "name": "python3",
      "display_name": "Python 3"
    },
    "language_info": {
      "name": "python"
    }
  },
  "cells": [
    {
      "cell_type": "code",
      "execution_count": null,
      "metadata": {
        "id": "FAToK1J7OyYb"
      },
      "outputs": [],
      "source": []
    },
    {
      "cell_type": "markdown",
      "source": [
        "Q1: What is Python, and why is it popular?\n",
        "Answer:\n",
        "What is Python?\n",
        "Python is a programming language that is easy to learn and read. It is used to create software, websites, games, and even to work with data.\n",
        "\n",
        "Why is Python Popular?\n",
        "1. Easy to Read and Write: Python looks like simple English, so it’s great for beginners.\n",
        "2. Versatile: Python can be used for web development, data science, automation, and much more.\n",
        "3. Lots of Libraries: There are many pre-written tools (called libraries) to help with different tasks, making coding faster.\n",
        "4. Huge Community: A lot of people use Python, so it’s easy to find help and resources.\n",
        "5. Works Everywhere: Python works on different devices and operating systems.\n",
        "\n",
        "Q2: What is an interpreter in Python?\n",
        "Answer:In Python, an interpreter is a program that reads and executes Python code line-by-line.\n",
        "\n",
        "Q3: What are pre-defined keywords in Python\n",
        "Answer: In Python, pre-defined keywords are reserved words that have special meaning in the language. These keywords cannot be used as variable names, function names, or identifiers because they are part of the language's syntax.\n",
        "List of Keywords:\n",
        "\n",
        "False      await      else       import     pass\n",
        "None       break      except     in         raise\n",
        "True       class      finally    is         return\n",
        "and        continue   for        lambda     try\n",
        "as         def        from       nonlocal   while\n",
        "assert     del        global     not        with\n",
        "\n",
        "Q4: Can keywords be used as variable names?\n",
        "Answer: Keywords have special meanings in Python and are reserved by the Python language.Thus, keywords cannot be used as variable names in Python.\n",
        "\n",
        "Q5: What is mutability in Python?\n",
        "Answer: Mutability refers to whether the state or value of an object in Python can be changed after it is created.\n",
        "\n",
        "Q6:  Why are lists mutable, but tuples are immutable ?\n",
        "Answer:\n",
        "Lists are mutable, meaning you can change them (add, remove, or modify items)because lists are meant to store things that might change over time, like a list of tasks or a shopping cart.\n",
        "\n",
        "Tuples are immutable, meaning once you create them, you cannot change them.\n",
        "Tuples are for storing fixed data that should never change, like coordinates or configuration settings.\n",
        "\n",
        "Q7: What is the difference between “==” and “is” operators in Python?\n",
        "Answer: '==' Equality Operator that checks if the values of two objects are the same whereas 'is' Identity Operator that Checks if two objects are the same object in memory, i.e., whether they point to the same memory location.\n",
        "\n",
        "Q8: What are logical operators in Python?\n",
        "Answer: Logical operators are used to combine conditional statements or expressions. They help in making decisions based on multiple conditions.\n",
        "\n",
        "Python has three logical operators:\n",
        "1. and: Both conditions must be True.\n",
        "2. or: At least one condition must be True.\n",
        "3. not: Reverses the condition (True becomes False, and False becomes True).\n",
        "\n",
        "Q9: What is type casting in Python?\n",
        "Answer: Type casting in Python refers to the conversion of one data type to another. This is useful when you need to perform operations between different data types, or when you want to ensure that a variable is of a specific type.\n",
        "\n",
        "Q10: What is the difference between implicit and explicit type casting?\n",
        "Answer:\n",
        "1. Implicit Type Casting (Automatic)\n",
        "Python does it for you automatically.\n",
        "Happens when Python can safely convert a smaller type to a bigger one (e.g., int to float).\n",
        "\n",
        "2. Explicit Type Casting (Manual)\n",
        "You do it yourself by telling Python to convert a value to another type.\n",
        "Used when you want to force a conversion (e.g., string to int).\n",
        "\n",
        "Q11: What is the purpose of conditional statements in Python?\n",
        "Answer: Conditional statements in Python allow you to make decisions in your code based on certain conditions. They are used to control the flow of the program and execute specific blocks of code based on whether a condition is True or False.\n",
        "\n",
        "Q12: How does the elif statement work?\n",
        "Answer: The elif (short for else if) statement is used to check multiple conditions in Python. It allows you to test additional conditions if the initial if condition is False.\n",
        "\n",
        "How it works:\n",
        "1. First, the if condition is checked.\n",
        "2. If the if condition is True, the corresponding block of code runs, and the rest of the conditions (elif or else) are ignored.\n",
        "3. If the if condition is False, the program moves to the elif statement (if any) and checks that condition.\n",
        "4. If the elif condition is True, the corresponding block of code runs, and the rest of the conditions are ignored.\n",
        "5. If none of the if or elif conditions are True, the program will run the else block (if present).\n",
        "\n",
        "Q13: What is the difference between for and while loops ?\n",
        "Answer:\n",
        "1. for Loop\n",
        "A for loop is used when you know how many times you want to repeat something.\n",
        "It goes through a sequence (like a list, range, or string) and runs once for each item.\n",
        "\n",
        "2. while Loop\n",
        "A while loop repeats as long as a condition is True.\n",
        "You might not know how many times it will run, and it stops when the condition becomes False.\n",
        "\n",
        "Q14;  Describe a scenario where a while loop is more suitable than a for loop?\n",
        "Answer:\n",
        "age = -1\n",
        "while age <= 0:  # Keep asking while the age is not valid\n",
        "    age = int(input(\"Please enter a valid age (greater than 0): \"))\n",
        "print(\"Your age is:\", age)\n",
        "\n",
        "Why while Loop Works Best Here:\n",
        "1. Condition-based: You don’t know how many times the user will input, but you want to keep asking until a valid condition is met (age > 0).\n",
        "2. Flexible stopping: The loop stops once the user gives a valid age, and the number of attempts is unknown.\n",
        "\n",
        "When a for Loop Wouldn't Be Ideal:\n",
        "1. If you used a for loop here, you would need to know the exact number of attempts beforehand, which isn’t practical since the number of attempts depends on the user's input.\n"
      ],
      "metadata": {
        "id": "WocdSvjePEkU"
      }
    },
    {
      "cell_type": "markdown",
      "source": [
        "**PRACTICAL QUESTIONS**\n",
        "\n",
        "---\n",
        "Q1:Write a Python program to print \"Hello, World!\"\n"
      ],
      "metadata": {
        "id": "qJYyW7QFTqm6"
      }
    },
    {
      "cell_type": "code",
      "source": [
        "print(\"Hello,World!\")"
      ],
      "metadata": {
        "colab": {
          "base_uri": "https://localhost:8080/"
        },
        "id": "IItBnEFsTpaJ",
        "outputId": "17d31836-e467-407c-d0ee-603d156e9aea"
      },
      "execution_count": 3,
      "outputs": [
        {
          "output_type": "stream",
          "name": "stdout",
          "text": [
            "Hello,World!\n"
          ]
        }
      ]
    },
    {
      "cell_type": "markdown",
      "source": [
        "Q2:  Write a Python program that displays your name and age?"
      ],
      "metadata": {
        "id": "5zAQEEcPUGot"
      }
    },
    {
      "cell_type": "code",
      "source": [
        "name='Gajendra'\n",
        "age=30\n",
        "print('My Name is: ',name)\n",
        "print('My age is: ', age)"
      ],
      "metadata": {
        "colab": {
          "base_uri": "https://localhost:8080/"
        },
        "id": "LWOitLbwT9fW",
        "outputId": "b2a986da-a5b1-4d4e-c6f4-d84d8c5e4a0f"
      },
      "execution_count": 6,
      "outputs": [
        {
          "output_type": "stream",
          "name": "stdout",
          "text": [
            "My Name is:  Gajendra\n",
            "My age is:  30\n"
          ]
        }
      ]
    },
    {
      "cell_type": "markdown",
      "source": [
        "Q3: Write code to print all the pre-defined keywords in Python using the keyword library?"
      ],
      "metadata": {
        "id": "DVvDq1p3T-DO"
      }
    },
    {
      "cell_type": "code",
      "source": [
        "import keyword\n",
        "print('Python Keywords are: ',keyword.kwlist)"
      ],
      "metadata": {
        "id": "7ea6NIHYU_WC"
      },
      "execution_count": null,
      "outputs": []
    },
    {
      "cell_type": "markdown",
      "source": [
        "Q4: Write a program that checks if a given word is a Python keyword."
      ],
      "metadata": {
        "id": "LdN5jABoU--R"
      }
    },
    {
      "cell_type": "code",
      "source": [
        "import keyword\n",
        "word = input(\"Enter a word: \")\n",
        "if keyword.iskeyword(word):\n",
        "    print(\"It is a Python keyword.\")\n",
        "else:\n",
        "    print(\"It is not a Python keyword.\")"
      ],
      "metadata": {
        "colab": {
          "base_uri": "https://localhost:8080/"
        },
        "id": "cSLeruQyU9d7",
        "outputId": "ac50602c-b7e3-46e0-e892-e97c5c3fbce8"
      },
      "execution_count": 8,
      "outputs": [
        {
          "output_type": "stream",
          "name": "stdout",
          "text": [
            "Enter a word: break\n",
            "It is a Python keyword.\n"
          ]
        }
      ]
    },
    {
      "cell_type": "markdown",
      "source": [
        "Q5:  Create a list and tuple in Python, and demonstrate how attempting to change an element works differently\n",
        "for each."
      ],
      "metadata": {
        "id": "fCp1XlUAVAYh"
      }
    },
    {
      "cell_type": "code",
      "source": [
        "\n",
        "my_list = [1, 2, 3, 4]\n",
        "my_tuple = (1, 2, 3, 4)\n",
        "\n",
        "# Attempting to change an element in the list\n",
        "print(\"Original List:\", my_list)\n",
        "my_list[2] = 99\n",
        "print(\"List after modification:\", my_list)\n",
        "\n",
        "# Attempting to change an element in the tuple\n",
        "print(\"Original Tuple:\", my_tuple)\n",
        "my_tuple[2] = 99\n",
        "\n",
        "#TypeError: 'tuple' object does not support item assignment"
      ],
      "metadata": {
        "colab": {
          "base_uri": "https://localhost:8080/",
          "height": 263
        },
        "id": "ypZ95NtrUFDg",
        "outputId": "eb4f1b24-142b-41d3-9eca-5151533f7376"
      },
      "execution_count": 7,
      "outputs": [
        {
          "output_type": "stream",
          "name": "stdout",
          "text": [
            "Original List: [1, 2, 3, 4]\n",
            "List after modification: [1, 2, 99, 4]\n",
            "Original Tuple: (1, 2, 3, 4)\n"
          ]
        },
        {
          "output_type": "error",
          "ename": "TypeError",
          "evalue": "'tuple' object does not support item assignment",
          "traceback": [
            "\u001b[0;31m---------------------------------------------------------------------------\u001b[0m",
            "\u001b[0;31mTypeError\u001b[0m                                 Traceback (most recent call last)",
            "\u001b[0;32m<ipython-input-7-81989d899172>\u001b[0m in \u001b[0;36m<cell line: 0>\u001b[0;34m()\u001b[0m\n\u001b[1;32m      9\u001b[0m \u001b[0;31m# Attempting to change an element in the tuple\u001b[0m\u001b[0;34m\u001b[0m\u001b[0;34m\u001b[0m\u001b[0m\n\u001b[1;32m     10\u001b[0m \u001b[0mprint\u001b[0m\u001b[0;34m(\u001b[0m\u001b[0;34m\"Original Tuple:\"\u001b[0m\u001b[0;34m,\u001b[0m \u001b[0mmy_tuple\u001b[0m\u001b[0;34m)\u001b[0m\u001b[0;34m\u001b[0m\u001b[0;34m\u001b[0m\u001b[0m\n\u001b[0;32m---> 11\u001b[0;31m \u001b[0mmy_tuple\u001b[0m\u001b[0;34m[\u001b[0m\u001b[0;36m2\u001b[0m\u001b[0;34m]\u001b[0m \u001b[0;34m=\u001b[0m \u001b[0;36m99\u001b[0m\u001b[0;34m\u001b[0m\u001b[0;34m\u001b[0m\u001b[0m\n\u001b[0m\u001b[1;32m     12\u001b[0m \u001b[0;34m\u001b[0m\u001b[0m\n\u001b[1;32m     13\u001b[0m \u001b[0;31m#TypeError: 'tuple' object does not support item assignment\u001b[0m\u001b[0;34m\u001b[0m\u001b[0;34m\u001b[0m\u001b[0m\n",
            "\u001b[0;31mTypeError\u001b[0m: 'tuple' object does not support item assignment"
          ]
        }
      ]
    },
    {
      "cell_type": "markdown",
      "source": [
        "Q6:  Write a function to demonstrate the behavior of mutable and immutable arguments?"
      ],
      "metadata": {
        "id": "Ur9EHv5z7qlg"
      }
    },
    {
      "cell_type": "code",
      "source": [
        "def modify_data(a_number, a_list):\n",
        "    a_number += 10\n",
        "    a_list.append(100)\n",
        "    print(\"Inside function:\")\n",
        "    print(\"Number:\", a_number)\n",
        "    print(\"List:\", a_list)\n",
        "num = 5\n",
        "my_list = [1, 2, 3]\n",
        "modify_data(num, my_list)\n",
        "print(\"\\nOutside function:\")\n",
        "print(\"Number:\", num)\n",
        "print(\"List:\", my_list)"
      ],
      "metadata": {
        "colab": {
          "base_uri": "https://localhost:8080/"
        },
        "id": "SmDfkP9OUDm-",
        "outputId": "13473cb9-5bfd-472a-c5ba-cea79ecd979d"
      },
      "execution_count": 9,
      "outputs": [
        {
          "output_type": "stream",
          "name": "stdout",
          "text": [
            "Inside function:\n",
            "Number: 15\n",
            "List: [1, 2, 3, 100]\n",
            "\n",
            "Outside function:\n",
            "Number: 5\n",
            "List: [1, 2, 3, 100]\n"
          ]
        }
      ]
    },
    {
      "cell_type": "markdown",
      "source": [
        "Q7: Write a program that performs basic arithmetic operations on two user-input numbers."
      ],
      "metadata": {
        "id": "G1EHyOf57iWB"
      }
    },
    {
      "cell_type": "code",
      "source": [
        "a=2\n",
        "b=3\n",
        "print('Addition: ',a+b)\n",
        "print('Subtraction: ',a-b)\n",
        "print('Multiplication: ',a*b)\n",
        "print('Dicision: ',a/b)\n",
        "print('Remainder: ',a%b)"
      ],
      "metadata": {
        "colab": {
          "base_uri": "https://localhost:8080/"
        },
        "id": "3kQgNePw88Ia",
        "outputId": "b3eac2d1-925d-45a5-d966-33741a851f84"
      },
      "execution_count": 12,
      "outputs": [
        {
          "output_type": "stream",
          "name": "stdout",
          "text": [
            "Addition:  5\n",
            "Subtraction:  -1\n",
            "Multiplication:  6\n",
            "Dicision:  0.6666666666666666\n",
            "Remainder:  2\n"
          ]
        }
      ]
    },
    {
      "cell_type": "markdown",
      "source": [
        "Q8: Write a program to demonstrate the use of logical operators?"
      ],
      "metadata": {
        "id": "UIrx2hWU9hFg"
      }
    },
    {
      "cell_type": "code",
      "source": [
        "a = 10\n",
        "b = 5\n",
        "c = 20\n",
        "\n",
        "print(\"a > b and b < c:\", a > b and b < c)\n",
        "print(\"a < b or b < c:\", a < b or b < c)\n",
        "print(\"not(a > b):\", not(a > b))"
      ],
      "metadata": {
        "colab": {
          "base_uri": "https://localhost:8080/"
        },
        "id": "Vsp79nJO9llv",
        "outputId": "b14175d1-6e48-4d83-9310-b499c243df1e"
      },
      "execution_count": 13,
      "outputs": [
        {
          "output_type": "stream",
          "name": "stdout",
          "text": [
            "a > b and b < c: True\n",
            "a < b or b < c: True\n",
            "not(a > b): False\n"
          ]
        }
      ]
    },
    {
      "cell_type": "markdown",
      "source": [
        "Q9:Write a Python program to convert user input from string to integer, float, and boolean types."
      ],
      "metadata": {
        "id": "ScuGD2h991hZ"
      }
    },
    {
      "cell_type": "code",
      "source": [
        "x = input(\"Enter something: \")\n",
        "print(\"As integer:\", int(x))\n",
        "print(\"As float:\", float(x))\n",
        "print(\"As boolean:\", bool(x))"
      ],
      "metadata": {
        "colab": {
          "base_uri": "https://localhost:8080/",
          "height": 339
        },
        "id": "sLH60RRT_Dbv",
        "outputId": "d553cc36-0bce-4655-a2e2-68aa80f29a19"
      },
      "execution_count": 16,
      "outputs": [
        {
          "output_type": "error",
          "ename": "KeyboardInterrupt",
          "evalue": "Interrupted by user",
          "traceback": [
            "\u001b[0;31m---------------------------------------------------------------------------\u001b[0m",
            "\u001b[0;31mKeyboardInterrupt\u001b[0m                         Traceback (most recent call last)",
            "\u001b[0;32m<ipython-input-16-459686e763ef>\u001b[0m in \u001b[0;36m<cell line: 0>\u001b[0;34m()\u001b[0m\n\u001b[0;32m----> 1\u001b[0;31m \u001b[0mx\u001b[0m \u001b[0;34m=\u001b[0m \u001b[0minput\u001b[0m\u001b[0;34m(\u001b[0m\u001b[0;34m\"Enter something: \"\u001b[0m\u001b[0;34m)\u001b[0m\u001b[0;34m\u001b[0m\u001b[0;34m\u001b[0m\u001b[0m\n\u001b[0m\u001b[1;32m      2\u001b[0m \u001b[0mprint\u001b[0m\u001b[0;34m(\u001b[0m\u001b[0;34m\"As integer:\"\u001b[0m\u001b[0;34m,\u001b[0m \u001b[0mint\u001b[0m\u001b[0;34m(\u001b[0m\u001b[0mx\u001b[0m\u001b[0;34m)\u001b[0m\u001b[0;34m)\u001b[0m\u001b[0;34m\u001b[0m\u001b[0;34m\u001b[0m\u001b[0m\n\u001b[1;32m      3\u001b[0m \u001b[0mprint\u001b[0m\u001b[0;34m(\u001b[0m\u001b[0;34m\"As float:\"\u001b[0m\u001b[0;34m,\u001b[0m \u001b[0mfloat\u001b[0m\u001b[0;34m(\u001b[0m\u001b[0mx\u001b[0m\u001b[0;34m)\u001b[0m\u001b[0;34m)\u001b[0m\u001b[0;34m\u001b[0m\u001b[0;34m\u001b[0m\u001b[0m\n\u001b[1;32m      4\u001b[0m \u001b[0mprint\u001b[0m\u001b[0;34m(\u001b[0m\u001b[0;34m\"As boolean:\"\u001b[0m\u001b[0;34m,\u001b[0m \u001b[0mbool\u001b[0m\u001b[0;34m(\u001b[0m\u001b[0mx\u001b[0m\u001b[0;34m)\u001b[0m\u001b[0;34m)\u001b[0m\u001b[0;34m\u001b[0m\u001b[0;34m\u001b[0m\u001b[0m\n",
            "\u001b[0;32m/usr/local/lib/python3.11/dist-packages/ipykernel/kernelbase.py\u001b[0m in \u001b[0;36mraw_input\u001b[0;34m(self, prompt)\u001b[0m\n\u001b[1;32m   1175\u001b[0m                 \u001b[0;34m\"raw_input was called, but this frontend does not support input requests.\"\u001b[0m\u001b[0;34m\u001b[0m\u001b[0;34m\u001b[0m\u001b[0m\n\u001b[1;32m   1176\u001b[0m             )\n\u001b[0;32m-> 1177\u001b[0;31m         return self._input_request(\n\u001b[0m\u001b[1;32m   1178\u001b[0m             \u001b[0mstr\u001b[0m\u001b[0;34m(\u001b[0m\u001b[0mprompt\u001b[0m\u001b[0;34m)\u001b[0m\u001b[0;34m,\u001b[0m\u001b[0;34m\u001b[0m\u001b[0;34m\u001b[0m\u001b[0m\n\u001b[1;32m   1179\u001b[0m             \u001b[0mself\u001b[0m\u001b[0;34m.\u001b[0m\u001b[0m_parent_ident\u001b[0m\u001b[0;34m[\u001b[0m\u001b[0;34m\"shell\"\u001b[0m\u001b[0;34m]\u001b[0m\u001b[0;34m,\u001b[0m\u001b[0;34m\u001b[0m\u001b[0;34m\u001b[0m\u001b[0m\n",
            "\u001b[0;32m/usr/local/lib/python3.11/dist-packages/ipykernel/kernelbase.py\u001b[0m in \u001b[0;36m_input_request\u001b[0;34m(self, prompt, ident, parent, password)\u001b[0m\n\u001b[1;32m   1217\u001b[0m             \u001b[0;32mexcept\u001b[0m \u001b[0mKeyboardInterrupt\u001b[0m\u001b[0;34m:\u001b[0m\u001b[0;34m\u001b[0m\u001b[0;34m\u001b[0m\u001b[0m\n\u001b[1;32m   1218\u001b[0m                 \u001b[0;31m# re-raise KeyboardInterrupt, to truncate traceback\u001b[0m\u001b[0;34m\u001b[0m\u001b[0;34m\u001b[0m\u001b[0m\n\u001b[0;32m-> 1219\u001b[0;31m                 \u001b[0;32mraise\u001b[0m \u001b[0mKeyboardInterrupt\u001b[0m\u001b[0;34m(\u001b[0m\u001b[0;34m\"Interrupted by user\"\u001b[0m\u001b[0;34m)\u001b[0m \u001b[0;32mfrom\u001b[0m \u001b[0;32mNone\u001b[0m\u001b[0;34m\u001b[0m\u001b[0;34m\u001b[0m\u001b[0m\n\u001b[0m\u001b[1;32m   1220\u001b[0m             \u001b[0;32mexcept\u001b[0m \u001b[0mException\u001b[0m\u001b[0;34m:\u001b[0m\u001b[0;34m\u001b[0m\u001b[0;34m\u001b[0m\u001b[0m\n\u001b[1;32m   1221\u001b[0m                 \u001b[0mself\u001b[0m\u001b[0;34m.\u001b[0m\u001b[0mlog\u001b[0m\u001b[0;34m.\u001b[0m\u001b[0mwarning\u001b[0m\u001b[0;34m(\u001b[0m\u001b[0;34m\"Invalid Message:\"\u001b[0m\u001b[0;34m,\u001b[0m \u001b[0mexc_info\u001b[0m\u001b[0;34m=\u001b[0m\u001b[0;32mTrue\u001b[0m\u001b[0;34m)\u001b[0m\u001b[0;34m\u001b[0m\u001b[0;34m\u001b[0m\u001b[0m\n",
            "\u001b[0;31mKeyboardInterrupt\u001b[0m: Interrupted by user"
          ]
        }
      ]
    },
    {
      "cell_type": "markdown",
      "source": [
        "Q10: Write code to demonstrate type casting with list elements."
      ],
      "metadata": {
        "id": "Vx1YKUOh_NPW"
      }
    },
    {
      "cell_type": "code",
      "source": [
        "str_list=['1','2','3','4']\n",
        "a = [int(x) for x in str_list]\n",
        "b = [float(x) for x in str_list]\n",
        "print('Integers: ',a)\n",
        "print('Float: ',b)"
      ],
      "metadata": {
        "colab": {
          "base_uri": "https://localhost:8080/"
        },
        "id": "8rwUjjB6_M3I",
        "outputId": "a4f7bb7f-270b-4a82-dea5-044c61dd97c5"
      },
      "execution_count": 20,
      "outputs": [
        {
          "output_type": "stream",
          "name": "stdout",
          "text": [
            "Integers:  [1, 2, 3, 4]\n",
            "Float:  [1.0, 2.0, 3.0, 4.0]\n"
          ]
        }
      ]
    },
    {
      "cell_type": "markdown",
      "source": [
        "Q11: Write a program that checks if a number is positive, negative, or zero?"
      ],
      "metadata": {
        "id": "ESy4F0oVMTqW"
      }
    },
    {
      "cell_type": "code",
      "source": [
        "number = float(input(\"Enter a number: \"))\n",
        "if number > 0:\n",
        "    print(\"The number is positive.\")\n",
        "elif number < 0:\n",
        "    print(\"The number is negative.\")\n",
        "else:\n",
        "    print(\"The number is zero.\")"
      ],
      "metadata": {
        "colab": {
          "base_uri": "https://localhost:8080/"
        },
        "id": "ey7yf3mVMTPV",
        "outputId": "b35758ef-c7e5-4b20-dfc0-3de1b7838a0a"
      },
      "execution_count": 21,
      "outputs": [
        {
          "output_type": "stream",
          "name": "stdout",
          "text": [
            "Enter a number: 15\n",
            "The number is positive.\n"
          ]
        }
      ]
    },
    {
      "cell_type": "markdown",
      "source": [
        "Q12: Write a for loop to print numbers from 1 to 10."
      ],
      "metadata": {
        "id": "9I7qcOkSMabe"
      }
    },
    {
      "cell_type": "code",
      "source": [
        "for i in range(1,11):\n",
        "  print(i)"
      ],
      "metadata": {
        "colab": {
          "base_uri": "https://localhost:8080/"
        },
        "id": "6NKI4GMB_KZQ",
        "outputId": "8d2cde07-4146-4afa-8ab7-f92ea5899f61"
      },
      "execution_count": 22,
      "outputs": [
        {
          "output_type": "stream",
          "name": "stdout",
          "text": [
            "1\n",
            "2\n",
            "3\n",
            "4\n",
            "5\n",
            "6\n",
            "7\n",
            "8\n",
            "9\n",
            "10\n"
          ]
        }
      ]
    },
    {
      "cell_type": "markdown",
      "source": [
        "Q13: Write a Python program to find the sum of all even numbers between 1 and 50."
      ],
      "metadata": {
        "id": "9JQkhdSrMkeW"
      }
    },
    {
      "cell_type": "code",
      "source": [
        "sum=0\n",
        "for i in range (1,51):\n",
        "  if (i%2)==0:\n",
        "    sum+=i\n",
        "print(sum)"
      ],
      "metadata": {
        "colab": {
          "base_uri": "https://localhost:8080/"
        },
        "id": "Fj6yRKDgMpXc",
        "outputId": "8a2cfee0-eefe-4563-ea9e-1f28bf8603cb"
      },
      "execution_count": 25,
      "outputs": [
        {
          "output_type": "stream",
          "name": "stdout",
          "text": [
            "650\n"
          ]
        }
      ]
    },
    {
      "cell_type": "markdown",
      "source": [
        "Q14: Write a program to reverse a string using a while loop."
      ],
      "metadata": {
        "id": "ncUOdbTINCY2"
      }
    },
    {
      "cell_type": "code",
      "source": [
        "string = \"Gajendra\"\n",
        "index = len(string) - 1\n",
        "reversed_string = \"\"\n",
        "while index >= 0:\n",
        "    reversed_string += string[index]\n",
        "    index -= 1\n",
        "print(reversed_string)"
      ],
      "metadata": {
        "colab": {
          "base_uri": "https://localhost:8080/"
        },
        "id": "VRGl_rvrNG6r",
        "outputId": "1b709b1a-59b3-48bd-8819-b64e723827d2"
      },
      "execution_count": 29,
      "outputs": [
        {
          "output_type": "stream",
          "name": "stdout",
          "text": [
            "ardnejaG\n"
          ]
        }
      ]
    },
    {
      "cell_type": "markdown",
      "source": [
        "Q15:Write a Python program to calculate the factorial of a number provided by the user using a while loop"
      ],
      "metadata": {
        "id": "aI2VPldsOXf3"
      }
    },
    {
      "cell_type": "code",
      "source": [
        "number = int(input(\"Enter a number: \"))\n",
        "factorial = 1\n",
        "for i in range(1, number + 1):\n",
        "    factorial *= i\n",
        "print(factorial)"
      ],
      "metadata": {
        "colab": {
          "base_uri": "https://localhost:8080/"
        },
        "id": "QX0qNjkvOW73",
        "outputId": "ea319c08-0949-4e94-8089-8c806ed83fb7"
      },
      "execution_count": 30,
      "outputs": [
        {
          "output_type": "stream",
          "name": "stdout",
          "text": [
            "Enter a number: 10\n",
            "3628800\n"
          ]
        }
      ]
    }
  ]
}